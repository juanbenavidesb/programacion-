{
 "cells": [
  {
   "cell_type": "markdown",
   "id": "ea5de77a",
   "metadata": {},
   "source": [
    "# carta dentro de un año "
   ]
  },
  {
   "cell_type": "code",
   "execution_count": 1,
   "id": "30ad6ffb",
   "metadata": {},
   "outputs": [
    {
     "name": "stdout",
     "output_type": "stream",
     "text": [
      "ingrese su nombre:juan \n"
     ]
    }
   ],
   "source": [
    "nom=input('ingrese su nombre:')"
   ]
  },
  {
   "cell_type": "code",
   "execution_count": 2,
   "id": "90e31c95",
   "metadata": {},
   "outputs": [
    {
     "name": "stdout",
     "output_type": "stream",
     "text": [
      "digite su edad: 17\n"
     ]
    }
   ],
   "source": [
    "ed=int(input(\"digite su edad: \"))"
   ]
  },
  {
   "cell_type": "code",
   "execution_count": 3,
   "id": "ab974882",
   "metadata": {},
   "outputs": [],
   "source": [
    "edadenunaño=ed+1"
   ]
  },
  {
   "cell_type": "code",
   "execution_count": 4,
   "id": "e7c2345c",
   "metadata": {},
   "outputs": [
    {
     "name": "stdout",
     "output_type": "stream",
     "text": [
      "digite el año en el que esta: 2021\n"
     ]
    }
   ],
   "source": [
    "año=int(input(\"digite el año en el que esta: \"))"
   ]
  },
  {
   "cell_type": "code",
   "execution_count": 5,
   "id": "4ec8c1f4",
   "metadata": {},
   "outputs": [],
   "source": [
    "añoactual=año+1"
   ]
  },
  {
   "cell_type": "code",
   "execution_count": 13,
   "id": "388ced58",
   "metadata": {},
   "outputs": [
    {
     "name": "stdout",
     "output_type": "stream",
     "text": [
      "---------------------------------------------------------Carta dentro de un año ----------------------------------------------------------\n",
      "hola juan  espero que en este año 2022 estes iniciando tu tercer semestre en la carrera de ciencia de datos, y estes pensando cual sera la electiva que decediras tomar y decidir si realizaras un doble programa, en un año  ya tendras la edad de  18 por lo cual ya eres mayor de edad y tendras mas responasbilidades, juan  espero que hallas mejorado mucho en ajedrez y que empieces a pensar en futuras ideas de negocio y accion laboral para cuando finalices tu carrera profesional, tambien quiero que no dejes de practicar los deportes que tanto te gustan,y aprecies a toda tu familia.\n"
     ]
    }
   ],
   "source": [
    "print (\"Carta dentro de un año \".center(138,'-'))\n",
    "print(\"hola\",nom,\"espero que en este año\",añoactual,\"estes iniciando tu tercer semestre en la carrera de ciencia de datos, y estes pensando cual sera la electiva que decediras tomar y decidir si realizaras un doble programa, en un año  ya tendras la edad de \",edadenunaño, \"por lo cual ya eres mayor de edad y tendras mas responasbilidades,\",nom,\"espero que hallas mejorado mucho en ajedrez y que empieces a pensar en futuras ideas de negocio y accion laboral para cuando finalices tu carrera profesional, tambien quiero que no dejes de practicar los deportes que tanto te gustan,y aprecies a toda tu familia.\".ljust(50, \"=\"))\n"
   ]
  },
  {
   "cell_type": "markdown",
   "id": "0710810e",
   "metadata": {},
   "source": [
    "# carta dentro de 5 años"
   ]
  },
  {
   "cell_type": "code",
   "execution_count": 7,
   "id": "4aa44d7f",
   "metadata": {},
   "outputs": [],
   "source": [
    "edadencincoaños=ed+5"
   ]
  },
  {
   "cell_type": "code",
   "execution_count": 8,
   "id": "2f57f77f",
   "metadata": {},
   "outputs": [],
   "source": [
    "añoactual1=año+5"
   ]
  },
  {
   "cell_type": "code",
   "execution_count": 16,
   "id": "e0ca3627",
   "metadata": {},
   "outputs": [
    {
     "name": "stdout",
     "output_type": "stream",
     "text": [
      "-------------------------------------------------------Carta dentro de cinco años --------------------------------------------------------\n",
      "hola juan  ya ha pasado mucho tiempo ya es el año 2026 me imagino que ya terminaste tu carrera, espero que tambien estes cursando tus estudios en tu maestria, ya se que tienes 22 años, espero que ya seas alguien independiente y que tengas un trabajo donde estes realizando todo lo que te gusta,tambien espero que hallas podido conocer a totalidad tu bello pais Colombia , y que emprendas viajes al resto del mundo, deseo que hallas podido visitar Rusia, China, Italia que fueron los paises con los que siempre soñaste descubrir,tambien deseo que tus emprendimientos esten en marcha, y que en un futuro no muy lejano,tengas una muy buena situacion financiera. \n"
     ]
    }
   ],
   "source": [
    "print (\"Carta dentro de cinco años \".center(138,'-'))\n",
    "print(\"hola\",nom,\"ya ha pasado mucho tiempo ya es el año\",añoactual1,\"me imagino que ya terminaste tu carrera, espero que tambien estes cursando tus estudios en tu maestria, ya se que tienes\",edadencincoaños,\"años, espero que ya seas alguien independiente y que tengas un trabajo donde estes realizando todo lo que te gusta,tambien espero que hallas podido conocer a totalidad tu bello pais Colombia , y que emprendas viajes al resto del mundo, deseo que hallas podido visitar Rusia, China, Italia que fueron los paises con los que siempre soñaste descubrir,tambien deseo que tus emprendimientos esten en marcha, y que en un futuro no muy lejano,tengas una muy buena situacion financiera. \")\n"
   ]
  }
 ],
 "metadata": {
  "kernelspec": {
   "display_name": "Python 3 (ipykernel)",
   "language": "python",
   "name": "python3"
  },
  "language_info": {
   "codemirror_mode": {
    "name": "ipython",
    "version": 3
   },
   "file_extension": ".py",
   "mimetype": "text/x-python",
   "name": "python",
   "nbconvert_exporter": "python",
   "pygments_lexer": "ipython3",
   "version": "3.9.7"
  }
 },
 "nbformat": 4,
 "nbformat_minor": 5
}
