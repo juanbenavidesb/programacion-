{
 "cells": [
  {
   "cell_type": "markdown",
   "id": "d77b5723",
   "metadata": {},
   "source": [
    "**Cree las siguientes funciones, con su debida documentación:**\n",
    "\n",
    "1. Cree una función que regrese como resultado el nombre de un restaurante y su NIT en una cadena de caracteres, pueden ser ficticios.\n",
    "2. Si en dicho restaurante cada persona consume en promedio 50.000, haga una función que permira calcular el valor de la cuenta, en promedio, dado el número de comensales.\n",
    "3. En el total calculado en el punto anterior se incluye el impuesto al consumo, cree una función que le permita conocer el valor que debería pagar sin dicho impuesto el cual asciende al $8\\%$.\n",
    "4. Una función que tenga como argumentos de entrada nombre de una persona y cantidad de comensales, la función debe tener como respuesta un \"recibo\" en el que aparezca el nombre del restaurante, su NIT, el nombre del cliente, el valor de la factura sin impuestos y con impuestos (sug: emplee como base las funciones creadas anteriormente).\n",
    "5. Una función que permita calcular el máximo entre dos números.\n",
    "6. Una función que ordene de menor a mayor tres números.\n",
    "7. Una función que dadas 5 notas de un estudiante, le permitan calcular la definitiva de la materia (nota 1: 10%, nota 2: 20%, nota 3: 30%, nota 4: 15%, nota 5: 25%) junto a un mensaje el cual resuma el desempeño del estudiante en el curso. (*Sug*: utilice los intervalos $0\\leq x<1,\\ 1\\leq x<2,\\ 2\\leq x<3,\\ 3\\leq x<4, 4\\leq x<4.5,\\ 4.5\\leq x\\leq5 $)"
   ]
  },
  {
   "cell_type": "markdown",
   "id": "0bed247b",
   "metadata": {},
   "source": [
    "# punto 1"
   ]
  },
  {
   "cell_type": "code",
   "execution_count": 48,
   "id": "e8e73247",
   "metadata": {},
   "outputs": [],
   "source": [
    "def saludo():\n",
    "    print(\"delicia, nit\")\n",
    " \n",
    "\n",
    "    \n",
    "\n",
    "    "
   ]
  },
  {
   "cell_type": "code",
   "execution_count": 49,
   "id": "d9607d60",
   "metadata": {
    "scrolled": true
   },
   "outputs": [
    {
     "name": "stdout",
     "output_type": "stream",
     "text": [
      "delicia, nit\n"
     ]
    }
   ],
   "source": [
    "saludo()\n",
    "    "
   ]
  },
  {
   "cell_type": "markdown",
   "id": "55e21ef2",
   "metadata": {},
   "source": [
    "# punto 2 y 3"
   ]
  },
  {
   "cell_type": "code",
   "execution_count": 71,
   "id": "dca73d78",
   "metadata": {},
   "outputs": [
    {
     "name": "stdout",
     "output_type": "stream",
     "text": [
      "digite el numero de comensales: 4\n",
      "el valor a pagar con impuestos es 200000\n",
      "el valor a pagar sin impuestos es  14814.814814814803\n"
     ]
    },
    {
     "data": {
      "text/plain": [
       "14814.814814814803"
      ]
     },
     "execution_count": 71,
     "metadata": {},
     "output_type": "execute_result"
    }
   ],
   "source": [
    "def precio():\n",
    "    y=int(input(\"digite el numero de comensales: \"))\n",
    "    l=y*50000\n",
    "    print(\"el valor a pagar con impuestos es\",l)\n",
    "    t=(l*100)/108\n",
    "    p=l-t\n",
    "    print(\"el valor a pagar sin impuestos es \",p)\n",
    "    return(p)\n",
    "    \n",
    "    \n",
    "precio()\n",
    "\n",
    "    \n",
    "    "
   ]
  },
  {
   "cell_type": "markdown",
   "id": "44defeef",
   "metadata": {},
   "source": [
    "# punto 4"
   ]
  },
  {
   "cell_type": "code",
   "execution_count": 72,
   "id": "8784660f",
   "metadata": {},
   "outputs": [
    {
     "name": "stdout",
     "output_type": "stream",
     "text": [
      "digite su nombre: juan andres\n",
      "digite el numero de comensales: 3\n",
      "juan andres\n",
      "delicias vallunas\n",
      "valor con impuestos: 150000\n",
      "valor sin impuestos: 11111.111111111124\n",
      "numero de nit=32932231012\n"
     ]
    }
   ],
   "source": [
    "def factura():\n",
    "    ls=input(\"digite su nombre: \")\n",
    "    tr=int(input(\"digite el numero de comensales: \"))\n",
    "    li=tr*50000\n",
    "    rk=(li*100)/108\n",
    "    sea=li-rk\n",
    "    print(ls)\n",
    "    print(\"restaurante=delicias vallunas\")\n",
    "    print(\"valor con impuestos:\",li)\n",
    "    print(\"valor sin impuestos:\",sea)\n",
    "    print(\"numero de nit=32932231012\")\n",
    "factura()\n",
    "    \n",
    "    "
   ]
  },
  {
   "cell_type": "markdown",
   "id": "dea94571",
   "metadata": {},
   "source": [
    "# punto 5"
   ]
  },
  {
   "cell_type": "code",
   "execution_count": 62,
   "id": "83218b18",
   "metadata": {},
   "outputs": [
    {
     "name": "stdout",
     "output_type": "stream",
     "text": [
      "digite un numero: 5\n",
      "digite otro numero: 4\n",
      "5\n"
     ]
    }
   ],
   "source": [
    "def numgr():\n",
    "    x=int(input(\"digite un numero: \"))\n",
    "    y=int(input(\"digite otro numero: \"))\n",
    "    if x>y:\n",
    "        print(x)\n",
    "    elif x<y:\n",
    "        print(y)\n",
    "    else:\n",
    "        print(\"son iguales \")\n",
    "numgr()\n"
   ]
  },
  {
   "cell_type": "markdown",
   "id": "66c687c1",
   "metadata": {},
   "source": [
    "# punto 6"
   ]
  },
  {
   "cell_type": "code",
   "execution_count": 70,
   "id": "f5b09710",
   "metadata": {},
   "outputs": [
    {
     "data": {
      "text/plain": [
       "(3, 4, 86)"
      ]
     },
     "execution_count": 70,
     "metadata": {},
     "output_type": "execute_result"
    }
   ],
   "source": [
    "def numm(q,w,e):\n",
    "    if q<e:\n",
    "        if w<e:\n",
    "            return q,w,e\n",
    "        else:\n",
    "            return q,e,w\n",
    "    else:\n",
    "        if w<e:\n",
    "            if e>q:\n",
    "                return  w,q,e\n",
    "            else:\n",
    "                return w,e,q\n",
    "numm(3,4,86)"
   ]
  },
  {
   "cell_type": "markdown",
   "id": "3f103e51",
   "metadata": {},
   "source": [
    "# punto 7"
   ]
  },
  {
   "cell_type": "code",
   "execution_count": 67,
   "id": "08478c61",
   "metadata": {},
   "outputs": [
    {
     "name": "stdout",
     "output_type": "stream",
     "text": [
      "digite su nota 1: 5\n",
      "digite su nota 2: 5\n",
      "digite su nota 3: 5\n",
      "digite su nota 4: 5\n",
      "digite su nota 5: 5\n",
      "su promedio es 5.0\n",
      "promedio alto \n"
     ]
    }
   ],
   "source": [
    "def promedio():\n",
    "    x=int(input(\"digite su nota 1: \"))\n",
    "    y=int(input(\"digite su nota 2: \"))\n",
    "    z=int(input(\"digite su nota 3: \"))\n",
    "    b=int(input(\"digite su nota 4: \"))\n",
    "    v=int(input(\"digite su nota 5: \"))\n",
    "    prom=((x*0.1)+(y*0.2)+(z*0.3)+(b*0.15)+(v*0.25))\n",
    "    print(\"su promedio es\",prom)\n",
    "    if (prom>0 and prom<3):\n",
    "        print(\"pormedio bajo\")\n",
    "    elif ( prom<4):\n",
    "        print(\"promedio basico\")\n",
    "    else:\n",
    "        print(\"promedio alto \")\n",
    "promedio()\n",
    "    \n",
    "    \n",
    " \n",
    "    \n",
    "    \n",
    "    \n",
    "    "
   ]
  },
  {
   "cell_type": "code",
   "execution_count": null,
   "id": "233d2144",
   "metadata": {},
   "outputs": [],
   "source": []
  }
 ],
 "metadata": {
  "kernelspec": {
   "display_name": "Python 3 (ipykernel)",
   "language": "python",
   "name": "python3"
  },
  "language_info": {
   "codemirror_mode": {
    "name": "ipython",
    "version": 3
   },
   "file_extension": ".py",
   "mimetype": "text/x-python",
   "name": "python",
   "nbconvert_exporter": "python",
   "pygments_lexer": "ipython3",
   "version": "3.9.7"
  }
 },
 "nbformat": 4,
 "nbformat_minor": 5
}
