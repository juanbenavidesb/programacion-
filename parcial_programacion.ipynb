{
 "cells": [
  {
   "cell_type": "markdown",
   "id": "884f3985",
   "metadata": {},
   "source": [
    "###  ejercicio 12"
   ]
  },
  {
   "cell_type": "code",
   "execution_count": 42,
   "id": "c266a498",
   "metadata": {},
   "outputs": [
    {
     "name": "stdout",
     "output_type": "stream",
     "text": [
      "el area del circulo es:  352.98935055734916\n",
      "el valor de b maximo es  271\n",
      "el area del rectangulo es: 352.3\n"
     ]
    }
   ],
   "source": [
    "import math \n",
    "radio=10.6\n",
    "area_circulo=math.pi*(radio*radio)\n",
    "print(\"el area del circulo es: \",area_circulo)\n",
    "y=int(area_circulo)\n",
    "a=1.3\n",
    "b=0 \n",
    "while a==1.3:\n",
    "    b=b+1\n",
    "    area_rec=a*b\n",
    "    x=int(area_rec)\n",
    "    if x==y:\n",
    "        print(\"el valor de b maximo es \",b)\n",
    "        print(\"el area del rectangulo es:\",area_rec)\n",
    "        break\n",
    "\n",
    "    \n",
    "    \n"
   ]
  },
  {
   "cell_type": "markdown",
   "id": "47b3fa6f",
   "metadata": {},
   "source": [
    "###  ejercicio 4"
   ]
  },
  {
   "cell_type": "code",
   "execution_count": 66,
   "id": "f9652bfb",
   "metadata": {},
   "outputs": [
    {
     "name": "stdout",
     "output_type": "stream",
     "text": [
      "digite su palabra: maritzita\n",
      "digite su palabra: mary\n",
      "['m', 'a', 'r', 'i', 't', 'z', 'i', 't', 'a']\n",
      "['m', 'a', 'r', 'y']\n",
      "['m', 'a', 'r']\n",
      "la palabras tienen  3 elementos en comun\n"
     ]
    }
   ],
   "source": [
    "def conincidencias():\n",
    "    x=input(\"digite su palabra: \")\n",
    "    y=input(\"digite su palabra: \")\n",
    "    lista1=list(x)\n",
    "    print(lista1)\n",
    "    conjunto1=set(lista1)\n",
    "    lista2=list(y)\n",
    "    print(lista2)\n",
    "    conjunto2=set(lista2)\n",
    "    z=conjunto1.intersection(conjunto2)\n",
    "    elementos=list(z)\n",
    "    print(elementos)\n",
    "    pal=len(z)\n",
    "    print(\"la palabras tienen \",pal,\"elementos en comun\")\n",
    "conincidencias()"
   ]
  },
  {
   "cell_type": "markdown",
   "id": "a08100a9",
   "metadata": {},
   "source": [
    "###  ejercicio 28"
   ]
  },
  {
   "cell_type": "code",
   "execution_count": null,
   "id": "099a99ca",
   "metadata": {},
   "outputs": [],
   "source": [
    "def mcd():\n",
    "    numero1=int(input(\"digite el numero mayor para sacar el mcd: \"))\n",
    "    numero2=int(input(\"digite el otro numero para sacar el mcd: \"))\n",
    "    while True:\n",
    "        div=numero1%numero2\n",
    "        if div==0:\n",
    "            print(\"el maximo comun divisior es: \",numero2)\n",
    "            break\n",
    "     \n",
    "        else:\n",
    "            numero1=numero2\n",
    "            numero2=div\n",
    "           \n",
    "        \n",
    "        \n",
    "mcd()        \n",
    "    "
   ]
  },
  {
   "cell_type": "markdown",
   "id": "aadd12b8",
   "metadata": {},
   "source": [
    "### ejercicio 20"
   ]
  },
  {
   "cell_type": "code",
   "execution_count": 105,
   "id": "9071af50",
   "metadata": {},
   "outputs": [],
   "source": [
    "import sympy\n",
    "import matplotlib.pyplot as pyplot\n",
    "import numpy as np"
   ]
  },
  {
   "cell_type": "code",
   "execution_count": 114,
   "id": "ff01f13c",
   "metadata": {},
   "outputs": [
    {
     "data": {
      "text/latex": [
       "$\\displaystyle 4 x + 1$"
      ],
      "text/plain": [
       "4*x + 1"
      ]
     },
     "execution_count": 114,
     "metadata": {},
     "output_type": "execute_result"
    }
   ],
   "source": [
    "x = sympy.symbols(\"x\")\n",
    "f=4*x+1\n",
    "f\n"
   ]
  },
  {
   "cell_type": "code",
   "execution_count": 119,
   "id": "e95c4793",
   "metadata": {},
   "outputs": [
    {
     "data": {
      "text/plain": [
       "[<matplotlib.lines.Line2D at 0x1f5e550a850>]"
      ]
     },
     "execution_count": 119,
     "metadata": {},
     "output_type": "execute_result"
    },
    {
     "data": {
      "image/png": "[encoded data removed]",
      "text/plain": [
       "<Figure size 432x288 with 1 Axes>"
      ]
     },
     "metadata": {
      "needs_background": "light"
     },
     "output_type": "display_data"
    }
   ],
   "source": [
    "from matplotlib import pyplot\n",
    "\n",
    "#Función Lineal.\n",
    "def f(x):\n",
    "    return 4*x+1\n",
    "\n",
    "x = range(0, 10)\n",
    "\n",
    "pyplot.plot(x, [f(i) for i in x])\n"
   ]
  },
  {
   "cell_type": "code",
   "execution_count": 116,
   "id": "2603563a",
   "metadata": {},
   "outputs": [],
   "source": [
    "def pendiente(x2,x1):\n",
    "    numerador= 4*x2+1-(4*x1+1)\n",
    "    denominador=x2-x1\n",
    "    print(numerador/denominador)\n",
    "    "
   ]
  },
  {
   "cell_type": "code",
   "execution_count": 118,
   "id": "1c277fd3",
   "metadata": {},
   "outputs": [
    {
     "name": "stdout",
     "output_type": "stream",
     "text": [
      "4.0\n"
     ]
    }
   ],
   "source": [
    "pendiente(8,3)"
   ]
  },
  {
   "cell_type": "code",
   "execution_count": null,
   "id": "b1acf012",
   "metadata": {},
   "outputs": [],
   "source": []
  }
 ],
 "metadata": {
  "kernelspec": {
   "display_name": "Python 3 (ipykernel)",
   "language": "python",
   "name": "python3"
  },
  "language_info": {
   "codemirror_mode": {
    "name": "ipython",
    "version": 3
   },
   "file_extension": ".py",
   "mimetype": "text/x-python",
   "name": "python",
   "nbconvert_exporter": "python",
   "pygments_lexer": "ipython3",
   "version": "3.9.7"
  }
 },
 "nbformat": 4,
 "nbformat_minor": 5
}
